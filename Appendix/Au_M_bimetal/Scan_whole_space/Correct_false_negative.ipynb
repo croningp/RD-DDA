{
 "cells": [
  {
   "cell_type": "code",
   "execution_count": 1,
   "metadata": {
    "scrolled": false
   },
   "outputs": [],
   "source": [
    "import os\n",
    "import subprocess\n",
    "import multiprocessing\n",
    "import numpy as np\n",
    "import time"
   ]
  },
  {
   "cell_type": "code",
   "execution_count": 2,
   "metadata": {
    "scrolled": true
   },
   "outputs": [],
   "source": [
    "def run_single_simulation(k_Au=-2,\n",
    "                          k_Ag=-2,\n",
    "                          Energy_ratio=0.5,\n",
    "                          Energy_ratio2=0.5,\n",
    "                          k_on_Au=0.1,\n",
    "                          k_on_Ag=1.0):\n",
    "    \n",
    "    path=\"/mnt/STORAGE2/Nanobot-Monte_Carlo_Simulation/Au_Ag_7/example_{}_{}_{}_{}_{}_{}/\".format(k_Au,\n",
    "                                                                                                  k_Ag,\n",
    "                                                                                                  Energy_ratio,\n",
    "                                                                                                  Energy_ratio2,\n",
    "                                                                                                  k_on_Au,\n",
    "                                                                                                  k_on_Ag)\n",
    "    if os.path.isfile(path+'/structure/Au_data_500000.csv')==False or os.path.isfile(path+'/structure/Ag_data_500000.csv')==False:\n",
    "        print(path)\n",
    "        subprocess.run(\"python3 \"+path_name, shell=True)"
   ]
  },
  {
   "cell_type": "code",
   "execution_count": 3,
   "metadata": {
    "scrolled": true
   },
   "outputs": [
    {
     "name": "stdout",
     "output_type": "stream",
     "text": [
      "/mnt/STORAGE2/Nanobot-Monte_Carlo_Simulation/Au_Ag_7/example_-6.0_-4.0_0.4_1.0_0.1_1.0/\n",
      "/mnt/STORAGE2/Nanobot-Monte_Carlo_Simulation/Au_Ag_7/example_-6.0_-4.2_0.4_1.0_0.1_1.0/\n",
      "/mnt/STORAGE2/Nanobot-Monte_Carlo_Simulation/Au_Ag_7/example_-6.0_-5.4_0.4_0.7_0.1_1.0/\n",
      "/mnt/STORAGE2/Nanobot-Monte_Carlo_Simulation/Au_Ag_7/example_-6.0_-5.6_0.4_0.7_0.1_1.0/\n",
      "/mnt/STORAGE2/Nanobot-Monte_Carlo_Simulation/Au_Ag_7/example_-6.0_-5.8_0.4_0.7_0.1_1.0/\n",
      "/mnt/STORAGE2/Nanobot-Monte_Carlo_Simulation/Au_Ag_7/example_-6.0_-6.0_0.4_0.7_0.1_1.0/\n"
     ]
    }
   ],
   "source": [
    "if __name__ == '__main__':\n",
    "    pool = multiprocessing.Pool(40) #use all available cores, otherwise specify the number you want as an argument\n",
    "    for k_Au in np.around(np.linspace(-4,-6,11),5):\n",
    "        for k_Ag in np.around(np.linspace(-4,-6,11),5):\n",
    "            for Energy_ratio in np.around(np.linspace(0.1,1,4),5):\n",
    "                for Energy_ratio2 in np.around(np.linspace(0.1,1,4),5):\n",
    "                    for k_on_Au in np.around(np.linspace(0.1,1,4),5):\n",
    "                        pool.apply_async(run_single_simulation, args=(k_Au,k_Ag,Energy_ratio,Energy_ratio2,k_on_Au,1.0))\n",
    "                        time.sleep(1)\n",
    "    pool.close()\n",
    "    pool.join()"
   ]
  },
  {
   "cell_type": "code",
   "execution_count": 8,
   "metadata": {},
   "outputs": [
    {
     "data": {
      "text/plain": [
       "-6.0"
      ]
     },
     "execution_count": 8,
     "metadata": {},
     "output_type": "execute_result"
    }
   ],
   "source": [
    "k_Au"
   ]
  },
  {
   "cell_type": "code",
   "execution_count": null,
   "metadata": {},
   "outputs": [],
   "source": []
  }
 ],
 "metadata": {
  "kernelspec": {
   "display_name": "Python 3 (ipykernel)",
   "language": "python",
   "name": "python3"
  },
  "language_info": {
   "codemirror_mode": {
    "name": "ipython",
    "version": 3
   },
   "file_extension": ".py",
   "mimetype": "text/x-python",
   "name": "python",
   "nbconvert_exporter": "python",
   "pygments_lexer": "ipython3",
   "version": "3.9.7"
  }
 },
 "nbformat": 4,
 "nbformat_minor": 4
}
