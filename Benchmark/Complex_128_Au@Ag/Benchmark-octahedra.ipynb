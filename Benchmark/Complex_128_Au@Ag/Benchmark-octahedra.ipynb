{
 "cells": [
  {
   "cell_type": "code",
   "execution_count": 1,
   "metadata": {},
   "outputs": [],
   "source": [
    "# -------------------------------------------------------------------------------------- #\n",
    "# ---------- DISCRETE DIPOLE METHOD FOR UV-VIS CALCULATIONS FROM DIPOLE DATA ----------- #\n",
    "# -------------------------------------------------------------------------------------- #\n",
    "import fresnel\n",
    "import os\n",
    "import json\n",
    "import pathlib\n",
    "import numpy as np\n",
    "import pandas as pd\n",
    "from dda_complex128 import DDA\n",
    "from multiprocessing import Process\n",
    "import tensorflow as tf\n",
    "from matplotlib import pyplot as plt\n",
    "import scipy.signal as signal\n",
    "import time \n",
    "\n",
    "def delete_1D(new_position,position):\n",
    "    A=np.array(np.around(new_position,7)).tolist()\n",
    "    B=np.array(np.around(position,7)).tolist()\n",
    "    A = [i for i in A if i not in B]\n",
    "    return A"
   ]
  },
  {
   "cell_type": "code",
   "execution_count": 2,
   "metadata": {},
   "outputs": [],
   "source": [
    "# GPU Device Config\n",
    "os.environ[\"CUDA_DEVICE_ORDER\"]=\"PCI_BUS_ID\"   \n",
    "os.environ[\"CUDA_VISIBLE_DEVICES\"]=\"3\"\n",
    "current_folder_path = pathlib.Path().absolute()"
   ]
  },
  {
   "cell_type": "code",
   "execution_count": 3,
   "metadata": {},
   "outputs": [],
   "source": [
    "# Define the overall dipole set \n",
    "position = []\n",
    "for x in range(-30,30):\n",
    "    for y in range(-30,30):\n",
    "        for z in range(-30,30):\n",
    "            if abs(x)+abs(y)+abs(z)<=20*np.sqrt(2)/2:\n",
    "                position.append([x,y,z])\n",
    "position = np.array(position)\n",
    "scene = fresnel.Scene()\n",
    "geometry = fresnel.geometry.Sphere(scene, N=len(position), radius=1.0)\n",
    "geometry.position[:] = position\n",
    "geometry.material = fresnel.material.Material(color=fresnel.color.linear([0.9, 0.714, 0.169]), roughness = 0.2)\n",
    "fresnel.preview(scene)\n",
    "np.savetxt('./data_Au@Ag_Octahedra/octahedra_overall.csv',position,delimiter=',')"
   ]
  },
  {
   "cell_type": "code",
   "execution_count": 4,
   "metadata": {},
   "outputs": [],
   "source": [
    "# Define the core \n",
    "position_core = []\n",
    "for x in range(-30,30):\n",
    "    for y in range(-30,30):\n",
    "        for z in range(-30,30):\n",
    "            if abs(x)+abs(y)+abs(z)<=20*np.sqrt(2)/2*0.95:\n",
    "                position_core.append([x,y,z])\n",
    "position_core = np.array(position_core)\n",
    "\n",
    "scene = fresnel.Scene()\n",
    "geometry = fresnel.geometry.Sphere(scene, N=len(position_core), radius=1.0)\n",
    "geometry.position[:] = position_core\n",
    "geometry.material = fresnel.material.Material(color=fresnel.color.linear([0.9, 0.714, 0.169]), roughness = 0.2)\n",
    "fresnel.preview(scene)\n",
    "np.savetxt('./data_Au@Ag_Octahedra/octahedra_core.csv',position_core,delimiter=',')"
   ]
  },
  {
   "cell_type": "code",
   "execution_count": 5,
   "metadata": {},
   "outputs": [],
   "source": [
    "for random_seed in range(1):\n",
    "    extra_dipole = np.array(delete_1D(position,position_core))\n",
    "    extra_index = [position.tolist().index(extra_dipole[i].tolist()) for i in range(len(extra_dipole))]\n",
    "    np.random.seed(random_seed)\n",
    "    np.random.shuffle(extra_index)\n",
    "    np.savetxt('./data_Au@Ag_Octahedra/random_delete_sequence_%d.csv'%random_seed,extra_index,delimiter=',')"
   ]
  },
  {
   "cell_type": "code",
   "execution_count": 6,
   "metadata": {},
   "outputs": [],
   "source": [
    "random_seed = 0\n",
    "extra_dipole = np.array(delete_1D(position,position_core))\n",
    "extra_index = [position.tolist().index(extra_dipole[i].tolist()) for i in range(len(extra_dipole))]\n",
    "np.random.seed(random_seed)\n",
    "np.random.shuffle(extra_index)"
   ]
  },
  {
   "cell_type": "code",
   "execution_count": 7,
   "metadata": {},
   "outputs": [],
   "source": [
    "# Generate the Au@Ag core shell structure\n",
    "components = np.array([1.0,0.0]).reshape(-1,1).repeat(len(position),axis=1)\n",
    "for i in extra_index:\n",
    "    components[:,i] = np.array([0,1]).T\n",
    "np.savetxt(str(current_folder_path)+'/core_shell_components.csv',components,delimiter=',')"
   ]
  },
  {
   "cell_type": "markdown",
   "metadata": {},
   "source": [
    "# Benchmark the trajecotry evolution"
   ]
  },
  {
   "cell_type": "code",
   "execution_count": 8,
   "metadata": {},
   "outputs": [],
   "source": [
    "# define the intial and final dipole sets\n",
    "config = {'gpu_device': '/GPU:0',\n",
    "            'dipole_length': 1.0,\n",
    "            'min_wavelength': 0.4,\n",
    "            'max_wavelength': 0.9,\n",
    "            'num_wavelengths': 51,\n",
    "            'ref_medium': 1.333,\n",
    "            'rotation_steps': 10,\n",
    "            'folder_path': None,\n",
    "            'calculate_electricField': False,\n",
    "            'ref_data': [str(current_folder_path) + '/Au_ref_index.csv',str(current_folder_path) + '/Ag_ref_index.csv'],\n",
    "            'metals': [\"Au\",\"Ag\"],\n",
    "            'dipole_data': str(current_folder_path) + '/data_Au@Ag_Octahedra/octahedra_overall.csv',\n",
    "            \"lattice_constant\":0.41,\n",
    "            \"method\":\"heter_custom\",\n",
    "            \"custom_ratio_path\":str(current_folder_path)+'/core_shell_components.csv',\n",
    "            'atom_data': None,\n",
    "           }\n",
    "config['folder_path'] = str(current_folder_path) + '/data_Au@Ag_Octahedra/'\n",
    "with open(config['folder_path']+'/config.json','w') as outfile:\n",
    "    json.dump(config,outfile)"
   ]
  },
  {
   "cell_type": "code",
   "execution_count": 9,
   "metadata": {},
   "outputs": [
    {
     "name": "stdout",
     "output_type": "stream",
     "text": [
      "Reading refractive index and dipole data\n",
      "Calculating radius of the cross section and polarizability\n"
     ]
    }
   ],
   "source": [
    "np_dda = DDA(config)\n",
    "alpha_j1 = np.array([np.repeat(np_dda.alpha_j[:,i],3) for i in range(np_dda.alpha_j.shape[1])]).T\n",
    "alpha_j2 = np.array([np.repeat(np_dda.alpha_j[:,i],3)/(10**10) for i in range(np_dda.alpha_j.shape[1])]).T\n",
    "atom_index = [[i for i in range(3*j,3*j+3)] for j in extra_index]\n",
    "atom_index = np.array(atom_index).flatten().tolist()\n",
    "np_dda.flip_infor = [atom_index,alpha_j1,alpha_j2]"
   ]
  },
  {
   "cell_type": "code",
   "execution_count": null,
   "metadata": {
    "scrolled": true
   },
   "outputs": [],
   "source": [
    "t_total = np_dda.calculate_spectrum_trajectories_v2()\n",
    "t_total = np.array(t_total)\n",
    "np.savetxt('./data_Au@Ag_Octahedra/data_octahedra_delete_t.csv',t_total,delimiter=',')\n",
    "t_total = np.array(t_total)\n",
    "np.savetxt(config['folder_path'] +\"/data.csv\",np.array(np_dda.C_cross_total),delimiter=\",\")"
   ]
  },
  {
   "cell_type": "code",
   "execution_count": null,
   "metadata": {
    "scrolled": true
   },
   "outputs": [],
   "source": [
    "plt.plot(t_total.mean(axis=0))"
   ]
  },
  {
   "cell_type": "code",
   "execution_count": 14,
   "metadata": {},
   "outputs": [
    {
     "name": "stdout",
     "output_type": "stream",
     "text": [
      "0.08572948906504141\n",
      "[4.10516122e-03 7.91529113e-03 1.19043378e-02 1.58941933e-02\n",
      " 1.98840394e-02 2.38825574e-02 2.78751990e-02 3.18606975e-02\n",
      " 3.58544518e-02 3.98321292e-02 4.38120085e-02 4.77963055e-02\n",
      " 5.17819489e-02 5.55966882e-02 5.92019511e-02 6.27569685e-02\n",
      " 6.63129348e-02 6.97815138e-02 7.23304608e-02 7.43628857e-02\n",
      " 7.63788364e-02 8.93620930e-02 1.77395512e-01 2.65366292e-01\n",
      " 3.53348279e-01 4.41327577e-01 5.29327888e-01 6.17323997e-01\n",
      " 7.05320887e-01 7.93331618e-01 8.81336278e-01 9.69325239e-01\n",
      " 1.05731536e+00 1.14531272e+00 1.23330326e+00 1.32130132e+00\n",
      " 1.40928683e+00 1.49727740e+00 1.58525841e+00 1.67326044e+00\n",
      " 1.76125750e+00 1.84923865e+00 1.93723036e+00 2.02521300e+00\n",
      " 2.11320683e+00 2.20119799e+00 2.28919536e+00 2.37717575e+00\n",
      " 2.46519032e+00 2.55317885e+00 2.64117704e+00 2.72917557e+00\n",
      " 2.81716243e+00 2.90515246e+00 2.99314426e+00 3.08112991e+00\n",
      " 3.16912655e+00 3.25710949e+00 3.34510015e+00 3.43310466e+00\n",
      " 3.52109623e+00 3.60908462e+00 3.69708198e+00 3.78505992e+00\n",
      " 3.87305044e+00 3.96105355e+00 4.04904309e+00 4.13704287e+00\n",
      " 4.22503756e+00 4.31302785e+00 4.40101903e+00 4.48903361e+00\n",
      " 4.57701288e+00 4.66499560e+00 4.75300034e+00 4.84098383e+00\n",
      " 4.92897356e+00 5.01696945e+00 5.10496740e+00 5.19295350e+00\n",
      " 5.28095429e+00 5.36893299e+00 5.45692845e+00 5.54491568e+00\n",
      " 5.63291436e+00 5.72091293e+00 5.80889441e+00 5.89688752e+00\n",
      " 5.98489510e+00 6.07287552e+00 6.16087969e+00 6.24886681e+00\n",
      " 6.33687252e+00 6.42486462e+00 6.51287317e+00 6.60086305e+00\n",
      " 6.68886204e+00 6.77686627e+00 6.86486516e+00 6.95284513e+00\n",
      " 7.04083130e+00 7.12882650e+00 7.21683777e+00 7.30484375e+00\n",
      " 7.39284234e+00 7.48083419e+00 7.56882506e+00 7.65681629e+00\n",
      " 7.74480879e+00 7.83279920e+00 7.92079476e+00 8.00879132e+00\n",
      " 8.09677843e+00 8.18477778e+00 8.27277327e+00 8.36076096e+00\n",
      " 8.44877473e+00 8.53676459e+00 8.62474650e+00 8.71273486e+00\n",
      " 8.80071784e+00 8.88870781e+00 8.97668393e+00 9.06467319e+00\n",
      " 9.15265738e+00 9.24064403e+00 9.32862936e+00 9.41661380e+00\n",
      " 9.50460278e+00 9.59257471e+00 9.68056516e+00 9.76854851e+00\n",
      " 9.85655531e+00 9.94452843e+00 1.00325169e+01 1.01205041e+01\n",
      " 1.02084889e+01 1.02964750e+01 1.03844622e+01 1.04724553e+01\n",
      " 1.05604327e+01 1.06484442e+01 1.07364296e+01 1.08244057e+01\n",
      " 1.09123926e+01 1.10003748e+01 1.10883691e+01 1.11763395e+01\n",
      " 1.12643242e+01 1.13523004e+01 1.14402911e+01 1.15282716e+01\n",
      " 1.16162541e+01 1.17042450e+01 1.17922264e+01 1.18802195e+01\n",
      " 1.19682141e+01 1.20561664e+01 1.21441479e+01 1.22321353e+01\n",
      " 1.23201204e+01 1.24080841e+01 1.24960689e+01 1.25840401e+01\n",
      " 1.26720037e+01 1.27599878e+01 1.28479808e+01 1.29359586e+01\n",
      " 1.30239174e+01 1.31118799e+01 1.31998880e+01 1.32878501e+01\n",
      " 1.33758417e+01 1.34638062e+01 1.35517750e+01 1.36397768e+01\n",
      " 1.37277582e+01 1.38157306e+01 1.39037016e+01 1.39916819e+01\n",
      " 1.40796701e+01 1.41676443e+01 1.42556236e+01 1.43436090e+01\n",
      " 1.44315905e+01 1.45195721e+01 1.46075480e+01 1.46955168e+01\n",
      " 1.47834981e+01 1.48714755e+01 1.49594427e+01 1.50474293e+01\n",
      " 1.51354140e+01 1.52233904e+01 1.53113574e+01 1.53993171e+01\n",
      " 1.54872816e+01 1.55752589e+01 1.56632396e+01 1.57511971e+01\n",
      " 1.58391824e+01 1.59271600e+01 1.60151541e+01 1.61031242e+01\n",
      " 1.61910870e+01 1.62790603e+01 1.63670352e+01 1.64550190e+01\n",
      " 1.65429930e+01 1.66309690e+01 1.67189408e+01 1.68069160e+01\n",
      " 1.68948944e+01 1.69828662e+01 1.70708493e+01 1.71588097e+01\n",
      " 1.72467848e+01 1.73347612e+01 1.74227406e+01 1.75107348e+01\n",
      " 1.75986953e+01 1.76866582e+01 1.77746431e+01 1.78626256e+01\n",
      " 1.79506064e+01 1.80385752e+01 1.81265424e+01 1.82145153e+01\n",
      " 1.83024948e+01 1.83904593e+01 1.84784263e+01 1.85664013e+01\n",
      " 1.86543776e+01 1.87423430e+01 1.88303180e+01 1.89182879e+01\n",
      " 1.90062655e+01 1.90942501e+01 1.91822226e+01 1.92701915e+01\n",
      " 1.93581605e+01 1.94461371e+01 1.95341185e+01 1.96220897e+01\n",
      " 1.97100560e+01 1.97980232e+01 1.98860026e+01 1.99739967e+01\n",
      " 2.00619659e+01 2.01499324e+01 2.02379131e+01 2.03258897e+01\n",
      " 2.04138531e+01 2.05018271e+01 2.05897999e+01 2.06777631e+01\n",
      " 2.07657368e+01 2.08537136e+01 2.09416846e+01 2.10296456e+01\n",
      " 2.11176359e+01 2.12056098e+01 2.12935745e+01 2.13815364e+01\n",
      " 2.14695103e+01 2.15574801e+01 2.16454435e+01 2.17334236e+01\n",
      " 2.18213924e+01 2.19093713e+01 2.19973440e+01 2.20853188e+01\n",
      " 2.21732947e+01 2.22612715e+01 2.23492546e+01 2.24372077e+01\n",
      " 2.25251727e+01 2.26131317e+01 2.27011041e+01 2.27890888e+01\n",
      " 2.28770563e+01 2.29650239e+01 2.30529949e+01 2.31409601e+01\n",
      " 2.32289500e+01 2.33169233e+01 2.34048866e+01 2.34928463e+01\n",
      " 2.35808156e+01 2.36687979e+01 2.37567787e+01 2.38447516e+01\n",
      " 2.39327294e+01 2.40206970e+01 2.41086621e+01 2.41966300e+01\n",
      " 2.42845875e+01 2.43725540e+01 2.44605396e+01 2.45485152e+01\n",
      " 2.46364850e+01 2.47244561e+01 2.48124226e+01 2.49003887e+01\n",
      " 2.49883849e+01 2.50763571e+01 2.51643306e+01 2.52523032e+01\n",
      " 2.53402848e+01 2.54282531e+01 2.55162390e+01 2.56042065e+01\n",
      " 2.56921932e+01 2.57801670e+01 2.58681414e+01 2.59561109e+01\n",
      " 2.60440794e+01 2.61320345e+01 2.62200086e+01 2.63079812e+01\n",
      " 2.63959570e+01 2.64839168e+01 2.65718792e+01 2.66598449e+01\n",
      " 2.67478292e+01 2.68358014e+01 2.69237737e+01 2.70117385e+01\n",
      " 2.70997285e+01 2.71877071e+01 2.72756829e+01 2.73636494e+01\n",
      " 2.74516232e+01 2.75395965e+01 2.76275753e+01 2.77155497e+01\n",
      " 2.78035165e+01 2.78914742e+01 2.79794513e+01 2.80674276e+01\n",
      " 2.81553898e+01 2.82433653e+01 2.83313373e+01 2.84193014e+01\n",
      " 2.85072873e+01 2.85952636e+01 2.86832336e+01 2.87712045e+01\n",
      " 2.88591640e+01 2.89471314e+01 2.90350968e+01 2.91230790e+01\n",
      " 2.92110532e+01 2.92990126e+01 2.93870028e+01 2.94749782e+01\n",
      " 2.95629454e+01 2.96509240e+01 2.97388949e+01 2.98268608e+01\n",
      " 2.99148374e+01 3.00028085e+01 3.00907997e+01 3.01787701e+01\n",
      " 3.02667381e+01 3.03547416e+01 3.04427187e+01 3.05306749e+01\n",
      " 3.06186564e+01 3.07066287e+01 3.07945959e+01 3.08825795e+01\n",
      " 3.09705406e+01 3.10585123e+01 3.11464913e+01 3.12344675e+01\n",
      " 3.13224468e+01 3.14104080e+01 3.14983853e+01 3.15863645e+01\n",
      " 3.16743442e+01 3.17623229e+01 3.18502875e+01 3.19382678e+01\n",
      " 3.20262428e+01 3.21142174e+01 3.22021952e+01 3.22901721e+01\n",
      " 3.23781392e+01 3.24661104e+01 3.25540914e+01 3.26420614e+01\n",
      " 3.27300257e+01 3.28179921e+01 3.29059687e+01 3.29939650e+01\n",
      " 3.30819442e+01 3.31699189e+01 3.32578937e+01 3.33458688e+01\n",
      " 3.34338460e+01 3.35218161e+01 3.36097850e+01 3.36977509e+01\n",
      " 3.37857306e+01 3.38736982e+01 3.39616727e+01 3.40496279e+01\n",
      " 3.41375973e+01 3.42255658e+01 3.43135545e+01 3.44015376e+01\n",
      " 3.44894955e+01 3.45774788e+01 3.46654633e+01 3.47534405e+01\n",
      " 3.48414152e+01 3.49293823e+01 3.50173557e+01 3.51053163e+01\n",
      " 3.51933060e+01 3.52812757e+01 3.53692423e+01 3.54572219e+01\n",
      " 3.55451928e+01 3.56331587e+01 3.57211306e+01 3.58090931e+01\n",
      " 3.58970636e+01 3.59850317e+01 3.60730015e+01 3.61609695e+01\n",
      " 3.62489638e+01 3.63369451e+01 3.64249179e+01 3.65128918e+01\n",
      " 3.66008533e+01 3.66888382e+01 3.67768080e+01 3.68647739e+01\n",
      " 3.69527506e+01 3.70407269e+01 3.71287027e+01 3.72166711e+01\n",
      " 3.73046515e+01 3.73926084e+01 3.74805691e+01 3.75685504e+01\n",
      " 3.76565242e+01 3.77444926e+01 3.78324647e+01 3.79204334e+01\n",
      " 3.80084108e+01 3.80963862e+01 3.81843520e+01 3.82723192e+01\n",
      " 3.83603023e+01 3.84482633e+01 3.85362410e+01 3.86242088e+01\n",
      " 3.87121867e+01 3.88001617e+01 3.88881468e+01 3.89761189e+01\n",
      " 3.90640947e+01 3.91520633e+01 3.92400199e+01 3.93279971e+01\n",
      " 3.94159743e+01 3.95039397e+01 3.95919109e+01 3.96798810e+01\n",
      " 3.97678558e+01 3.98558287e+01 3.99437905e+01 4.00317578e+01\n",
      " 4.01197429e+01 4.02077137e+01 4.02956796e+01 4.03836542e+01\n",
      " 4.04716203e+01 4.05595902e+01 4.06475676e+01 4.07355274e+01\n",
      " 4.08234976e+01 4.09114676e+01 4.09994415e+01 4.10874137e+01\n",
      " 4.11753871e+01 4.12633595e+01 4.13513270e+01 4.14393049e+01\n",
      " 4.15272813e+01 4.16152410e+01 4.17032048e+01 4.17911613e+01\n",
      " 4.18791433e+01 4.19671105e+01 4.20550784e+01 4.21430432e+01\n",
      " 4.22310190e+01 4.23189935e+01 4.24069620e+01 4.24949207e+01\n",
      " 4.25828850e+01 4.26708691e+01 4.27588434e+01 4.28468016e+01\n",
      " 4.29347836e+01 4.30227439e+01 4.31107189e+01 4.31986938e+01\n",
      " 4.32866638e+01 4.33746406e+01 4.34626127e+01 4.35505689e+01\n",
      " 4.36385372e+01 4.37265224e+01 4.38144993e+01 4.39024845e+01\n",
      " 4.39904560e+01 4.40784184e+01 4.41663903e+01 4.42543585e+01\n",
      " 4.43423423e+01 4.44303082e+01 4.45182752e+01 4.46062391e+01\n",
      " 4.46942152e+01 4.47821821e+01 4.48701406e+01 4.49580976e+01\n",
      " 4.50460703e+01 4.51340372e+01 4.52220178e+01 4.53099825e+01\n",
      " 4.53979517e+01 4.54859256e+01 4.55739050e+01 4.56618845e+01\n",
      " 4.57498710e+01 4.58378448e+01 4.59258062e+01 4.60137697e+01\n",
      " 4.61017364e+01 4.61896996e+01 4.62776752e+01 4.63656420e+01\n",
      " 4.64536252e+01 4.65415964e+01 4.66295588e+01 4.67175214e+01\n",
      " 4.68054828e+01 4.68934690e+01 4.69814501e+01 4.70694255e+01\n",
      " 4.71573953e+01 4.72453690e+01 4.73333444e+01 4.74213086e+01\n",
      " 4.75092774e+01 4.75972484e+01 4.76852230e+01 4.77731975e+01\n",
      " 4.78611525e+01 4.79491088e+01 4.80370883e+01 4.81250625e+01\n",
      " 4.82130356e+01 4.83009927e+01 4.83889763e+01 4.84769390e+01\n",
      " 4.85649063e+01 4.86528650e+01 4.87408393e+01 4.88287874e+01\n",
      " 4.89167657e+01 4.90047441e+01 4.90927103e+01 4.91806921e+01\n",
      " 4.92686657e+01 4.93566235e+01 4.94446010e+01 4.95325724e+01\n",
      " 4.96205567e+01 4.97085262e+01 4.97964980e+01 4.98844637e+01\n",
      " 4.99724315e+01 5.00603968e+01 5.01483711e+01 5.02363454e+01\n",
      " 5.03243287e+01 5.04122958e+01 5.05002715e+01 5.05882578e+01\n",
      " 5.06762376e+01 5.07642092e+01 5.08521842e+01 5.09401481e+01\n",
      " 5.10281297e+01 5.11160960e+01 5.12040699e+01 5.12920444e+01\n",
      " 5.13800172e+01 5.14679851e+01 5.15559568e+01 5.16439286e+01\n",
      " 5.17318930e+01 5.18198570e+01 5.19078454e+01 5.19958131e+01\n",
      " 5.20837799e+01 5.21717377e+01 5.22597152e+01 5.23476948e+01\n",
      " 5.24356696e+01 5.25236369e+01 5.26116061e+01 5.26995746e+01\n",
      " 5.27875573e+01 5.28755301e+01 5.29634998e+01 5.30514573e+01\n",
      " 5.31394374e+01 5.32274152e+01 5.33153730e+01 5.34033378e+01\n",
      " 5.34912976e+01 5.35792618e+01 5.36672387e+01 5.37552271e+01\n",
      " 5.38431786e+01 5.39311448e+01 5.40191071e+01 5.41070776e+01\n",
      " 5.41950573e+01 5.42830210e+01 5.43710027e+01 5.44589692e+01\n",
      " 5.45469575e+01 5.46349201e+01 5.47228925e+01 5.48108719e+01\n",
      " 5.48988580e+01 5.49868303e+01 5.50748050e+01 5.51627688e+01\n",
      " 5.52507506e+01 5.53387208e+01 5.54266963e+01 5.55146704e+01\n",
      " 5.56026341e+01 5.56906071e+01 5.57785736e+01 5.58665337e+01\n",
      " 5.59545022e+01 5.60424689e+01 5.61304560e+01 5.62184218e+01\n",
      " 5.63063919e+01 5.63943603e+01 5.64823358e+01 5.65703151e+01\n",
      " 5.66582724e+01 5.67462620e+01 5.68342255e+01 5.69222028e+01\n",
      " 5.70101760e+01 5.70981504e+01 5.71861161e+01 5.72740749e+01\n",
      " 5.73620341e+01 5.74508908e+01 5.75379789e+01 5.76259525e+01\n",
      " 5.77139379e+01 5.78019007e+01 5.78898686e+01 5.79778488e+01\n",
      " 5.80658175e+01 5.81537797e+01 5.82417527e+01 5.83297262e+01\n",
      " 5.84177063e+01 5.85056788e+01 5.85936624e+01 5.86816490e+01\n",
      " 5.87696263e+01 5.88575868e+01 5.89455920e+01 5.90335409e+01\n",
      " 5.91215043e+01 5.92094706e+01 5.92974418e+01 5.93854118e+01\n",
      " 5.94733708e+01 5.95613333e+01 5.96493034e+01 5.97372715e+01\n",
      " 5.98252464e+01 5.99132103e+01 6.00011881e+01 6.00891492e+01\n",
      " 6.01771310e+01 6.02650888e+01 6.03530660e+01 6.04410310e+01\n",
      " 6.05289990e+01 6.06169597e+01 6.07049359e+01 6.07929050e+01\n",
      " 6.08808789e+01 6.09688380e+01 6.10567946e+01 6.11447649e+01\n",
      " 6.12327364e+01 6.13207243e+01 6.14086846e+01 6.14966353e+01\n",
      " 6.15846036e+01 6.16725880e+01 6.17605607e+01 6.18485374e+01\n",
      " 6.19364963e+01 6.20244743e+01 6.21124477e+01 6.22004011e+01\n",
      " 6.22883703e+01 6.23763470e+01 6.24643210e+01 6.25522992e+01\n",
      " 6.26402782e+01 6.27282549e+01 6.28162179e+01 6.29041917e+01\n",
      " 6.29921539e+01 6.30801207e+01 6.31680848e+01 6.32560417e+01\n",
      " 6.33440158e+01 6.34319817e+01 6.35199554e+01 6.36079232e+01\n",
      " 6.36958812e+01 6.37838532e+01 6.38718286e+01 6.39597886e+01\n",
      " 6.40477470e+01 6.41357226e+01 6.42236961e+01 6.43116556e+01\n",
      " 6.43996299e+01 6.44875760e+01 6.45755337e+01 6.46635055e+01\n",
      " 6.47514766e+01 6.48394368e+01 6.49274140e+01 6.50153861e+01\n",
      " 6.51033559e+01 6.51913331e+01 6.52792928e+01 6.53672666e+01\n",
      " 6.54552413e+01 6.55432124e+01 6.56311772e+01 6.57191485e+01\n",
      " 6.58071123e+01 6.58950211e+01 6.59829624e+01 6.60708588e+01\n",
      " 6.61588044e+01 6.62467259e+01 6.63346527e+01 6.64225652e+01\n",
      " 6.65105024e+01 6.65984042e+01 6.66863387e+01 6.67742431e+01\n",
      " 6.68621856e+01 6.69500766e+01 6.70380248e+01 6.71259222e+01\n",
      " 6.72138572e+01 6.73017541e+01]\n",
      "32.798162364212686\n"
     ]
    }
   ],
   "source": [
    "t_total = np.loadtxt('./data_Au@Ag_Octahedra/data_octahedra_delete_t.csv',delimiter=',')\n",
    "print(np.diff(t_total.mean(axis=0)).mean())\n",
    "print(t_total.mean(axis=0))\n",
    "print(t_total.mean())"
   ]
  },
  {
   "cell_type": "code",
   "execution_count": 15,
   "metadata": {},
   "outputs": [
    {
     "data": {
      "image/png": "[encoded data removed]",
      "text/plain": [
       "<Figure size 432x288 with 1 Axes>"
      ]
     },
     "metadata": {
      "needs_background": "light"
     },
     "output_type": "display_data"
    }
   ],
   "source": [
    "data = np.loadtxt( str(current_folder_path) + '/data_Au@Ag_Octahedra/' +\"/data.csv\",delimiter=\",\")\n",
    "for i in range(data.shape[1]):\n",
    "    plt.plot(data[:,i])"
   ]
  },
  {
   "cell_type": "markdown",
   "metadata": {},
   "source": [
    "# Use the analytical addition solution"
   ]
  },
  {
   "cell_type": "code",
   "execution_count": 8,
   "metadata": {},
   "outputs": [],
   "source": [
    "#read in original shape\n",
    "with tf.device('/GPU:0'):\n",
    "    position0=np.loadtxt('./data_Au@Ag_Octahedra/octahedra_core.csv',delimiter=',')\n",
    "\n",
    "with tf.device('/GPU:0'):\n",
    "    position1=np.loadtxt('./data_Au@Ag_Octahedra/octahedra_overall.csv',delimiter=',')\n",
    "\n",
    "delete_sequence = np.loadtxt('./data_Au@Ag_Octahedra/random_delete_sequence_%d.csv'%random_seed,delimiter=',')\n",
    "position_old = position0\n",
    "position_new = np.vstack((position0,position1[extra_index[::-1]]))\n",
    "np.savetxt(\"All_dipoles.csv\",position_new,delimiter=',')\n",
    "\n",
    "# Generate the Au@Ag core shell structure\n",
    "components = np.array([1.0,0.0]).reshape(-1,1).repeat(len(position),axis=1)\n",
    "for i in range(len(position_old),len(position_new)):\n",
    "    components[:,i] = np.array([0,1]).T\n",
    "np.savetxt(str(current_folder_path)+'/core_shell_components2.csv',components,delimiter=',')"
   ]
  },
  {
   "cell_type": "code",
   "execution_count": 9,
   "metadata": {},
   "outputs": [],
   "source": [
    "# define the intial and final dipole sets\n",
    "config_1 = {'gpu_device': '/GPU:0',\n",
    "            'dipole_length': 1.0,\n",
    "            'min_wavelength': 0.4,\n",
    "            'max_wavelength': 0.9,\n",
    "            'num_wavelengths': 51,\n",
    "            'ref_medium': 1.333,\n",
    "            'rotation_steps': 10,\n",
    "            'folder_path': None,\n",
    "            'calculate_electricField': False,\n",
    "            'ref_data': [str(current_folder_path) + '/Au_ref_index.csv',str(current_folder_path) + '/Ag_ref_index.csv'],\n",
    "            'metals': [\"Au\",\"Ag\"],\n",
    "            'dipole_data': str(current_folder_path) + '/data_Au@Ag_Octahedra/octahedra_core.csv',\n",
    "            \"ratio\":[1.0, 0],\n",
    "            \"lattice_constant\":0.41,\n",
    "            \"method\":\"homo\",\n",
    "            \"atom_data\":None\n",
    "           }\n",
    "\n",
    "config_2 = {'gpu_device': '/GPU:0',\n",
    "            'dipole_length': 1.0,\n",
    "            'min_wavelength': 0.4,\n",
    "            'max_wavelength': 0.9,\n",
    "            'num_wavelengths': 51,\n",
    "            'ref_medium': 1.333,\n",
    "            'rotation_steps': 10,\n",
    "            'folder_path': None,\n",
    "            'calculate_electricField': False,\n",
    "            'ref_data': [str(current_folder_path) + '/Au_ref_index.csv',str(current_folder_path) + '/Ag_ref_index.csv'],\n",
    "            'metals': [\"Au\",\"Ag\"],\n",
    "            'dipole_data': str(current_folder_path) + '/All_dipoles.csv',\n",
    "            \"lattice_constant\":0.41,\n",
    "            \"method\":\"heter_custom\",\n",
    "            \"custom_ratio_path\":str(current_folder_path)+'/core_shell_components2.csv',\n",
    "            \"atom_data\":None}"
   ]
  },
  {
   "cell_type": "code",
   "execution_count": 10,
   "metadata": {},
   "outputs": [
    {
     "name": "stdout",
     "output_type": "stream",
     "text": [
      "Reading refractive index and dipole data\n",
      "Calculating radius of the cross section and polarizability\n",
      "Reading refractive index and dipole data\n",
      "Calculating radius of the cross section and polarizability\n"
     ]
    }
   ],
   "source": [
    "data_path = str(current_folder_path) + '/data_strict_solution/'\n",
    "config_1['folder_path'] = data_path  # path to store the resutls\n",
    "with open(config_1['folder_path']+'/config_1.json','w') as outfile:\n",
    "    json.dump(config_1,outfile)\n",
    "np_dda1 = DDA(config_1)\n",
    "np_dda1.dipole_list = np_dda1.dipole_list\n",
    "\n",
    "config_2['folder_path'] = data_path # path to store the resutls\n",
    "with open(config_2['folder_path']+'/config_2.json','w') as outfile:\n",
    "    json.dump(config_2,outfile)\n",
    "np_dda2 = DDA(config_2)\n",
    "np_dda2.dipole_list = np_dda2.dipole_list\n",
    "\n",
    "# check wavelength and wavenumber\n",
    "if not (np_dda1.wl_exp == np_dda2.wl_exp).all():\n",
    "    print(\"Error: the wavelengths are not consistent\")\n",
    "    \n",
    "if not (np_dda1.k == np_dda1.k).all():\n",
    "    print(\"Error: the wavenumbers are not consistent\")\n",
    "k = np_dda1.k"
   ]
  },
  {
   "cell_type": "code",
   "execution_count": null,
   "metadata": {
    "scrolled": true
   },
   "outputs": [
    {
     "name": "stdout",
     "output_type": "stream",
     "text": [
      "Matrix_inverse done\n",
      "tf.Tensor(0.0001941630310819981, shape=(), dtype=float64)\n",
      "WARNING:tensorflow:From /home/yibin/miniconda3/envs/tf-gpu/lib/python3.7/site-packages/tensorflow_core/python/ops/linalg/linear_operator_block_diag.py:199: LinearOperator.graph_parents (from tensorflow.python.ops.linalg.linear_operator) is deprecated and will be removed in a future version.\n",
      "Instructions for updating:\n",
      "Do not call `graph_parents`.\n"
     ]
    }
   ],
   "source": [
    "for index_wave in range(len(k)):\n",
    "    np_dda1.calculate_spectrum_trajectories(np_dda1,np_dda2,index_wave,k)"
   ]
  },
  {
   "cell_type": "code",
   "execution_count": 13,
   "metadata": {},
   "outputs": [
    {
     "data": {
      "image/png": "[encoded data removed]",
      "text/plain": [
       "<Figure size 432x288 with 1 Axes>"
      ]
     },
     "metadata": {
      "needs_background": "light"
     },
     "output_type": "display_data"
    }
   ],
   "source": [
    "data_path = str(current_folder_path) + '/data_strict_solution/'\n",
    "C_total = []\n",
    "t_total = []\n",
    "for index_wave in range(len(k)):\n",
    "    C_total.append(np.load(data_path+f\"/C_cross-{index_wave}.npy\"))\n",
    "    t_total.append(np.loadtxt(data_path+f\"/time_cost-{index_wave}.csv\",delimiter=','))\n",
    "C_total = np.array(C_total)\n",
    "t_total = np.array(t_total)\n",
    "np.savetxt(data_path+'/C_total_combined.csv',np.array(C_total),delimiter=',')\n",
    "np.savetxt(data_path+'/t_total_combined.csv',np.array(t_total),delimiter=',')\n",
    "\n",
    "for i in range(C_total.shape[1]):\n",
    "    plt.plot(C_total[:,i])"
   ]
  },
  {
   "cell_type": "markdown",
   "metadata": {},
   "source": [
    "# Benchmark the overall structure"
   ]
  },
  {
   "cell_type": "code",
   "execution_count": 32,
   "metadata": {},
   "outputs": [],
   "source": [
    "# define the intial and final dipole sets\n",
    "config = {'gpu_device': '/GPU:0',\n",
    "            'dipole_length': 1.0,\n",
    "            'min_wavelength': 0.4,\n",
    "            'max_wavelength': 0.9,\n",
    "            'num_wavelengths': 51,\n",
    "            'ref_medium': 1.333,\n",
    "            'rotation_steps': 10,\n",
    "            'folder_path': None,\n",
    "            'calculate_electricField': False,\n",
    "            'ref_data': [str(current_folder_path) + '/Au_ref_index.csv',str(current_folder_path) + '/Ag_ref_index.csv'],\n",
    "            'metals': [\"Au\",\"Ag\"],\n",
    "            'dipole_data': str(current_folder_path) + '/All_dipoles.csv',\n",
    "            \"lattice_constant\":0.41,\n",
    "            \"method\":\"heter_custom\",\n",
    "            \"custom_ratio_path\":str(current_folder_path)+'/core_shell_components2.csv',\n",
    "            \"atom_data\":None}"
   ]
  },
  {
   "cell_type": "code",
   "execution_count": 33,
   "metadata": {},
   "outputs": [
    {
     "name": "stdout",
     "output_type": "stream",
     "text": [
      "Reading refractive index and dipole data\n",
      "Calculating radius of the cross section and polarizability\n"
     ]
    }
   ],
   "source": [
    "config['folder_path'] = str(current_folder_path) + '/data_start_end/'\n",
    "with open(config['folder_path']+'/config.json','w') as outfile:\n",
    "    json.dump(config,outfile)\n",
    "np_dda = DDA(config)\n",
    "np.savetxt(config['folder_path'] +\"/data_overall.csv\",np.array(np_dda.C_cross_total),delimiter=\",\")"
   ]
  },
  {
   "cell_type": "code",
   "execution_count": 34,
   "metadata": {
    "scrolled": true
   },
   "outputs": [
    {
     "name": "stdout",
     "output_type": "stream",
     "text": [
      "0\n",
      "tf.Tensor(0.0003314325274575316, shape=(), dtype=float64)\n",
      "1\n",
      "tf.Tensor(0.00033991514593386, shape=(), dtype=float64)\n",
      "2\n",
      "tf.Tensor(0.0004472381085848715, shape=(), dtype=float64)\n",
      "3\n",
      "tf.Tensor(0.0005302972162490831, shape=(), dtype=float64)\n",
      "4\n",
      "tf.Tensor(0.0004647011006925564, shape=(), dtype=float64)\n",
      "5\n",
      "tf.Tensor(0.00034597325757383316, shape=(), dtype=float64)\n",
      "6\n",
      "tf.Tensor(0.000259198625569395, shape=(), dtype=float64)\n",
      "7\n",
      "tf.Tensor(0.00021326796689979434, shape=(), dtype=float64)\n",
      "8\n",
      "tf.Tensor(0.00019286919834419076, shape=(), dtype=float64)\n",
      "9\n",
      "tf.Tensor(0.0001891456682920673, shape=(), dtype=float64)\n",
      "10\n",
      "tf.Tensor(0.00020225612399195955, shape=(), dtype=float64)\n",
      "11\n",
      "tf.Tensor(0.00023439489012825484, shape=(), dtype=float64)\n",
      "12\n",
      "tf.Tensor(0.00027858973029601104, shape=(), dtype=float64)\n",
      "13\n",
      "tf.Tensor(0.0003130719867722791, shape=(), dtype=float64)\n",
      "14\n",
      "tf.Tensor(0.0003282988741522607, shape=(), dtype=float64)\n",
      "15\n",
      "tf.Tensor(0.0003315308166416813, shape=(), dtype=float64)\n",
      "16\n",
      "tf.Tensor(0.00032927767197610654, shape=(), dtype=float64)\n",
      "17\n",
      "tf.Tensor(0.00031991478428787, shape=(), dtype=float64)\n",
      "18\n",
      "tf.Tensor(0.0002982686184478052, shape=(), dtype=float64)\n",
      "19\n",
      "tf.Tensor(0.00026115670694689015, shape=(), dtype=float64)\n",
      "20\n",
      "tf.Tensor(0.00022228706662530675, shape=(), dtype=float64)\n",
      "21\n",
      "tf.Tensor(0.00019488220322595083, shape=(), dtype=float64)\n",
      "22\n",
      "tf.Tensor(0.00017593885635728903, shape=(), dtype=float64)\n",
      "23\n",
      "tf.Tensor(0.00014950950879396506, shape=(), dtype=float64)\n",
      "24\n",
      "tf.Tensor(0.00011882187064784246, shape=(), dtype=float64)\n",
      "25\n",
      "tf.Tensor(9.491778757364199e-05, shape=(), dtype=float64)\n",
      "26\n",
      "tf.Tensor(8.114528420716122e-05, shape=(), dtype=float64)\n",
      "27\n",
      "tf.Tensor(7.276868001770193e-05, shape=(), dtype=float64)\n",
      "28\n",
      "tf.Tensor(7.496113362796612e-05, shape=(), dtype=float64)\n",
      "29\n",
      "tf.Tensor(7.385131494580169e-05, shape=(), dtype=float64)\n",
      "30\n",
      "tf.Tensor(6.851488767382851e-05, shape=(), dtype=float64)\n",
      "31\n",
      "tf.Tensor(6.196508270079354e-05, shape=(), dtype=float64)\n",
      "32\n",
      "tf.Tensor(5.3512752551721547e-05, shape=(), dtype=float64)\n",
      "33\n",
      "tf.Tensor(4.375960150510235e-05, shape=(), dtype=float64)\n",
      "34\n",
      "tf.Tensor(3.9098407887663794e-05, shape=(), dtype=float64)\n",
      "35\n",
      "tf.Tensor(3.870985723617196e-05, shape=(), dtype=float64)\n",
      "36\n",
      "tf.Tensor(3.5728757674695405e-05, shape=(), dtype=float64)\n",
      "37\n",
      "tf.Tensor(3.296335491685685e-05, shape=(), dtype=float64)\n",
      "38\n",
      "tf.Tensor(3.212221091097897e-05, shape=(), dtype=float64)\n",
      "39\n",
      "tf.Tensor(2.9736634005413654e-05, shape=(), dtype=float64)\n",
      "40\n",
      "tf.Tensor(2.6597087576486417e-05, shape=(), dtype=float64)\n",
      "41\n",
      "tf.Tensor(2.6040703947563443e-05, shape=(), dtype=float64)\n",
      "42\n",
      "tf.Tensor(2.954728549071468e-05, shape=(), dtype=float64)\n",
      "43\n",
      "tf.Tensor(3.628658253520567e-05, shape=(), dtype=float64)\n",
      "44\n",
      "tf.Tensor(3.8893263045813737e-05, shape=(), dtype=float64)\n",
      "45\n",
      "tf.Tensor(3.523050931903393e-05, shape=(), dtype=float64)\n",
      "46\n",
      "tf.Tensor(3.0052489053734117e-05, shape=(), dtype=float64)\n",
      "47\n",
      "tf.Tensor(2.4349673055919e-05, shape=(), dtype=float64)\n",
      "48\n",
      "tf.Tensor(2.1179784270617367e-05, shape=(), dtype=float64)\n",
      "49\n",
      "tf.Tensor(2.0205569745975124e-05, shape=(), dtype=float64)\n",
      "50\n",
      "tf.Tensor(1.8648682002985097e-05, shape=(), dtype=float64)\n",
      "-45.9811509403528\n"
     ]
    }
   ],
   "source": [
    "t_start = time.time()\n",
    "np_dda.run_DDA()\n",
    "t_end = time.time()\n",
    "print((t_start - t_end)/51)\n",
    "np.savetxt(config['folder_path'] +\"/t_overall.csv\",np.array([(t_end - t_start)]),delimiter=\",\")"
   ]
  },
  {
   "cell_type": "code",
   "execution_count": 39,
   "metadata": {},
   "outputs": [
    {
     "data": {
      "text/plain": [
       "45.9811509403528"
      ]
     },
     "execution_count": 39,
     "metadata": {},
     "output_type": "execute_result"
    }
   ],
   "source": [
    "np.loadtxt(config['folder_path'] +\"/t_overall.csv\",delimiter=\",\")/51"
   ]
  },
  {
   "cell_type": "markdown",
   "metadata": {},
   "source": [
    "# Benchmark the direct calculation of the core"
   ]
  },
  {
   "cell_type": "code",
   "execution_count": 35,
   "metadata": {},
   "outputs": [],
   "source": [
    "# define the intial and final dipole sets\n",
    "config = {'gpu_device': '/GPU:0',\n",
    "            'dipole_length': 1.0,\n",
    "            'min_wavelength': 0.4,\n",
    "            'max_wavelength': 0.9,\n",
    "            'num_wavelengths': 51,\n",
    "            'ref_medium': 1.333,\n",
    "            'rotation_steps': 10,\n",
    "            'folder_path': None,\n",
    "            'calculate_electricField': False,\n",
    "            'ref_data': [str(current_folder_path) + '/Au_ref_index.csv',str(current_folder_path) + '/Ag_ref_index.csv'],\n",
    "            'metals': [\"Au\",\"Ag\"],\n",
    "            'dipole_data': str(current_folder_path) + '/data_Au@Ag_Octahedra/octahedra_core.csv',\n",
    "            \"ratio\":[1.0, 0],\n",
    "            \"lattice_constant\":0.41,\n",
    "            \"method\":\"homo\",\n",
    "            \"atom_data\":None\n",
    "           }"
   ]
  },
  {
   "cell_type": "code",
   "execution_count": 36,
   "metadata": {},
   "outputs": [
    {
     "name": "stdout",
     "output_type": "stream",
     "text": [
      "Reading refractive index and dipole data\n",
      "Calculating radius of the cross section and polarizability\n"
     ]
    }
   ],
   "source": [
    "config['folder_path'] = str(current_folder_path) + '/data_start_end/'\n",
    "with open(config['folder_path']+'/config.json','w') as outfile:\n",
    "    json.dump(config,outfile)\n",
    "np_dda = DDA(config)\n",
    "np.savetxt(config['folder_path'] +\"/data_core.csv\",np.array(np_dda.C_cross_total),delimiter=\",\")"
   ]
  },
  {
   "cell_type": "code",
   "execution_count": 37,
   "metadata": {
    "scrolled": true
   },
   "outputs": [
    {
     "name": "stdout",
     "output_type": "stream",
     "text": [
      "0\n",
      "tf.Tensor(0.0001941630310819981, shape=(), dtype=float64)\n",
      "1\n",
      "tf.Tensor(0.0001903429948514916, shape=(), dtype=float64)\n",
      "2\n",
      "tf.Tensor(0.00018591533156105694, shape=(), dtype=float64)\n",
      "3\n",
      "tf.Tensor(0.00018179293770764825, shape=(), dtype=float64)\n",
      "4\n",
      "tf.Tensor(0.00018007359533193766, shape=(), dtype=float64)\n",
      "5\n",
      "tf.Tensor(0.00017889074289932107, shape=(), dtype=float64)\n",
      "6\n",
      "tf.Tensor(0.00017608324638197274, shape=(), dtype=float64)\n",
      "7\n",
      "tf.Tensor(0.00017394125785698397, shape=(), dtype=float64)\n",
      "8\n",
      "tf.Tensor(0.00017596749803565768, shape=(), dtype=float64)\n",
      "9\n",
      "tf.Tensor(0.00018492431470063962, shape=(), dtype=float64)\n",
      "10\n",
      "tf.Tensor(0.00020480330559331659, shape=(), dtype=float64)\n",
      "11\n",
      "tf.Tensor(0.00023789937379898625, shape=(), dtype=float64)\n",
      "12\n",
      "tf.Tensor(0.00027919539157176605, shape=(), dtype=float64)\n",
      "13\n",
      "tf.Tensor(0.0003157952718584247, shape=(), dtype=float64)\n",
      "14\n",
      "tf.Tensor(0.0003393221063603888, shape=(), dtype=float64)\n",
      "15\n",
      "tf.Tensor(0.0003496708661986226, shape=(), dtype=float64)\n",
      "16\n",
      "tf.Tensor(0.0003496495570541346, shape=(), dtype=float64)\n",
      "17\n",
      "tf.Tensor(0.00033625701871447795, shape=(), dtype=float64)\n",
      "18\n",
      "tf.Tensor(0.00030557170381086276, shape=(), dtype=float64)\n",
      "19\n",
      "tf.Tensor(0.0002597381948824823, shape=(), dtype=float64)\n",
      "20\n",
      "tf.Tensor(0.00021237551161384647, shape=(), dtype=float64)\n",
      "21\n",
      "tf.Tensor(0.00017114904876753997, shape=(), dtype=float64)\n",
      "22\n",
      "tf.Tensor(0.00014194882810333347, shape=(), dtype=float64)\n",
      "23\n",
      "tf.Tensor(0.00011958973996610108, shape=(), dtype=float64)\n",
      "24\n",
      "tf.Tensor(9.499190065744774e-05, shape=(), dtype=float64)\n",
      "25\n",
      "tf.Tensor(7.64643930830151e-05, shape=(), dtype=float64)\n",
      "26\n",
      "tf.Tensor(6.933246947099733e-05, shape=(), dtype=float64)\n",
      "27\n",
      "tf.Tensor(6.381123393717191e-05, shape=(), dtype=float64)\n",
      "28\n",
      "tf.Tensor(5.8504406514649194e-05, shape=(), dtype=float64)\n",
      "29\n",
      "tf.Tensor(5.194174578299741e-05, shape=(), dtype=float64)\n",
      "30\n",
      "tf.Tensor(4.9813440740496575e-05, shape=(), dtype=float64)\n",
      "31\n",
      "tf.Tensor(4.53492792325176e-05, shape=(), dtype=float64)\n",
      "32\n",
      "tf.Tensor(3.4644226595951376e-05, shape=(), dtype=float64)\n",
      "33\n",
      "tf.Tensor(2.727726881845961e-05, shape=(), dtype=float64)\n",
      "34\n",
      "tf.Tensor(2.4180436499616948e-05, shape=(), dtype=float64)\n",
      "35\n",
      "tf.Tensor(2.3929119188855777e-05, shape=(), dtype=float64)\n",
      "36\n",
      "tf.Tensor(2.6535954410542096e-05, shape=(), dtype=float64)\n",
      "37\n",
      "tf.Tensor(2.817626669211617e-05, shape=(), dtype=float64)\n",
      "38\n",
      "tf.Tensor(2.8712724436574374e-05, shape=(), dtype=float64)\n",
      "39\n",
      "tf.Tensor(3.1079955923564255e-05, shape=(), dtype=float64)\n",
      "40\n",
      "tf.Tensor(3.2949322630593756e-05, shape=(), dtype=float64)\n",
      "41\n",
      "tf.Tensor(3.1496958265509815e-05, shape=(), dtype=float64)\n",
      "42\n",
      "tf.Tensor(2.8895514733549966e-05, shape=(), dtype=float64)\n",
      "43\n",
      "tf.Tensor(2.6064053931747807e-05, shape=(), dtype=float64)\n",
      "44\n",
      "tf.Tensor(2.3681092294146225e-05, shape=(), dtype=float64)\n",
      "45\n",
      "tf.Tensor(2.0916725641386583e-05, shape=(), dtype=float64)\n",
      "46\n",
      "tf.Tensor(1.886953186991266e-05, shape=(), dtype=float64)\n",
      "47\n",
      "tf.Tensor(1.7162018268866403e-05, shape=(), dtype=float64)\n",
      "48\n",
      "tf.Tensor(1.5593027470029907e-05, shape=(), dtype=float64)\n",
      "49\n",
      "tf.Tensor(1.4297455591220117e-05, shape=(), dtype=float64)\n",
      "50\n",
      "tf.Tensor(1.2889444341721793e-05, shape=(), dtype=float64)\n",
      "25.924333979101743\n"
     ]
    }
   ],
   "source": [
    "t_start = time.time()\n",
    "np_dda.run_DDA()\n",
    "t_end = time.time()\n",
    "print((t_end - t_start)/51)\n",
    "np.savetxt(config['folder_path'] +\"/t_core.csv\",np.array([(t_end - t_start)]),delimiter=\",\")"
   ]
  },
  {
   "cell_type": "code",
   "execution_count": 38,
   "metadata": {},
   "outputs": [
    {
     "data": {
      "text/plain": [
       "25.924333979101743"
      ]
     },
     "execution_count": 38,
     "metadata": {},
     "output_type": "execute_result"
    }
   ],
   "source": [
    "np.loadtxt(config['folder_path'] +\"/t_core.csv\",delimiter=\",\")/51"
   ]
  },
  {
   "cell_type": "code",
   "execution_count": null,
   "metadata": {},
   "outputs": [],
   "source": []
  }
 ],
 "metadata": {
  "kernelspec": {
   "display_name": "Python 3",
   "language": "python",
   "name": "python3"
  },
  "language_info": {
   "codemirror_mode": {
    "name": "ipython",
    "version": 3
   },
   "file_extension": ".py",
   "mimetype": "text/x-python",
   "name": "python",
   "nbconvert_exporter": "python",
   "pygments_lexer": "ipython3",
   "version": "3.7.7"
  }
 },
 "nbformat": 4,
 "nbformat_minor": 4
}
