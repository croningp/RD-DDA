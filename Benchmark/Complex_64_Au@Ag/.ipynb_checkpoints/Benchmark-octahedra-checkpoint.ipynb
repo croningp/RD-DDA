{
 "cells": [
  {
   "cell_type": "code",
   "execution_count": 1,
   "metadata": {},
   "outputs": [],
   "source": [
    "# -------------------------------------------------------------------------------------- #\n",
    "# ---------- DISCRETE DIPOLE METHOD FOR UV-VIS CALCULATIONS FROM DIPOLE DATA ----------- #\n",
    "# -------------------------------------------------------------------------------------- #\n",
    "import fresnel\n",
    "import os\n",
    "import json\n",
    "import pathlib\n",
    "import numpy as np\n",
    "import pandas as pd\n",
    "from dda import DDA\n",
    "from multiprocessing import Process\n",
    "import tensorflow as tf\n",
    "from matplotlib import pyplot as plt\n",
    "import scipy.signal as signal\n",
    "import time \n",
    "\n",
    "def delete_1D(new_position,position):\n",
    "    A=np.array(np.around(new_position,7)).tolist()\n",
    "    B=np.array(np.around(position,7)).tolist()\n",
    "    A = [i for i in A if i not in B]\n",
    "    return A"
   ]
  },
  {
   "cell_type": "code",
   "execution_count": 2,
   "metadata": {},
   "outputs": [],
   "source": [
    "# GPU Device Config\n",
    "os.environ[\"CUDA_DEVICE_ORDER\"]=\"PCI_BUS_ID\"   \n",
    "os.environ[\"CUDA_VISIBLE_DEVICES\"]=\"3\"\n",
    "current_folder_path = pathlib.Path().absolute()"
   ]
  },
  {
   "cell_type": "code",
   "execution_count": 3,
   "metadata": {},
   "outputs": [],
   "source": [
    "# Define the overall dipole set \n",
    "position = []\n",
    "for x in range(-30,30):\n",
    "    for y in range(-30,30):\n",
    "        for z in range(-30,30):\n",
    "            if abs(x)+abs(y)+abs(z)<=20*np.sqrt(2)/2:\n",
    "                position.append([x,y,z])\n",
    "position = np.array(position)\n",
    "scene = fresnel.Scene()\n",
    "geometry = fresnel.geometry.Sphere(scene, N=len(position), radius=1.0)\n",
    "geometry.position[:] = position\n",
    "geometry.material = fresnel.material.Material(color=fresnel.color.linear([0.9, 0.714, 0.169]), roughness = 0.2)\n",
    "fresnel.preview(scene)\n",
    "np.savetxt('./data_Au@Ag_Octahedra/octahedra_overall.csv',position,delimiter=',')"
   ]
  },
  {
   "cell_type": "code",
   "execution_count": 4,
   "metadata": {},
   "outputs": [],
   "source": [
    "# Define the core \n",
    "position_core = []\n",
    "for x in range(-30,30):\n",
    "    for y in range(-30,30):\n",
    "        for z in range(-30,30):\n",
    "            if abs(x)+abs(y)+abs(z)<=20*np.sqrt(2)/2*0.95:\n",
    "                position_core.append([x,y,z])\n",
    "position_core = np.array(position_core)\n",
    "\n",
    "scene = fresnel.Scene()\n",
    "geometry = fresnel.geometry.Sphere(scene, N=len(position_core), radius=1.0)\n",
    "geometry.position[:] = position_core\n",
    "geometry.material = fresnel.material.Material(color=fresnel.color.linear([0.9, 0.714, 0.169]), roughness = 0.2)\n",
    "fresnel.preview(scene)\n",
    "np.savetxt('./data_Au@Ag_Octahedra/octahedra_core.csv',position_core,delimiter=',')"
   ]
  },
  {
   "cell_type": "code",
   "execution_count": 5,
   "metadata": {},
   "outputs": [],
   "source": [
    "for random_seed in range(1):\n",
    "    extra_dipole = np.array(delete_1D(position,position_core))\n",
    "    extra_index = [position.tolist().index(extra_dipole[i].tolist()) for i in range(len(extra_dipole))]\n",
    "    np.random.seed(random_seed)\n",
    "    np.random.shuffle(extra_index)\n",
    "    np.savetxt('./data_Au@Ag_Octahedra/random_delete_sequence_%d.csv'%random_seed,extra_index,delimiter=',')"
   ]
  },
  {
   "cell_type": "code",
   "execution_count": 6,
   "metadata": {},
   "outputs": [],
   "source": [
    "random_seed = 0\n",
    "extra_dipole = np.array(delete_1D(position,position_core))\n",
    "extra_index = [position.tolist().index(extra_dipole[i].tolist()) for i in range(len(extra_dipole))]\n",
    "np.random.seed(random_seed)\n",
    "np.random.shuffle(extra_index)"
   ]
  },
  {
   "cell_type": "code",
   "execution_count": 7,
   "metadata": {},
   "outputs": [],
   "source": [
    "# Generate the Au@Ag core shell structure\n",
    "components = np.array([1.0,0.0]).reshape(-1,1).repeat(len(position),axis=1)\n",
    "for i in extra_index:\n",
    "    components[:,i] = np.array([0,1]).T\n",
    "np.savetxt(str(current_folder_path)+'/core_shell_components.csv',components,delimiter=',')"
   ]
  },
  {
   "cell_type": "markdown",
   "metadata": {},
   "source": [
    "# Benchmark the trajecotry evolution"
   ]
  },
  {
   "cell_type": "code",
   "execution_count": 8,
   "metadata": {},
   "outputs": [],
   "source": [
    "# define the intial and final dipole sets\n",
    "config = {'gpu_device': '/GPU:0',\n",
    "            'dipole_length': 1.0,\n",
    "            'min_wavelength': 0.4,\n",
    "            'max_wavelength': 0.9,\n",
    "            'num_wavelengths': 51,\n",
    "            'ref_medium': 1.333,\n",
    "            'rotation_steps': 10,\n",
    "            'folder_path': None,\n",
    "            'calculate_electricField': False,\n",
    "            'ref_data': [str(current_folder_path) + '/Au_ref_index.csv',str(current_folder_path) + '/Ag_ref_index.csv'],\n",
    "            'metals': [\"Au\",\"Ag\"],\n",
    "            'dipole_data': str(current_folder_path) + '/data_Au@Ag_Octahedra/octahedra_overall.csv',\n",
    "            \"lattice_constant\":0.41,\n",
    "            \"method\":\"heter_custom\",\n",
    "            \"custom_ratio_path\":str(current_folder_path)+'/core_shell_components.csv',\n",
    "            'atom_data': None,\n",
    "           }\n",
    "config['folder_path'] = str(current_folder_path) + '/data_Au@Ag_Octahedra/'\n",
    "with open(config['folder_path']+'/config.json','w') as outfile:\n",
    "    json.dump(config,outfile)"
   ]
  },
  {
   "cell_type": "code",
   "execution_count": 9,
   "metadata": {},
   "outputs": [
    {
     "name": "stdout",
     "output_type": "stream",
     "text": [
      "Reading refractive index and dipole data\n",
      "Calculating radius of the cross section and polarizability\n"
     ]
    }
   ],
   "source": [
    "np_dda = DDA(config)\n",
    "alpha_j1 = np.array([np.repeat(np_dda.alpha_j[:,i],3) for i in range(np_dda.alpha_j.shape[1])]).T\n",
    "alpha_j2 = np.array([np.repeat(np_dda.alpha_j[:,i],3)/(10**10) for i in range(np_dda.alpha_j.shape[1])]).T\n",
    "atom_index = [[i for i in range(3*j,3*j+3)] for j in extra_index]\n",
    "atom_index = np.array(atom_index).flatten().tolist()\n",
    "np_dda.flip_infor = [atom_index,alpha_j1,alpha_j2]"
   ]
  },
  {
   "cell_type": "code",
   "execution_count": null,
   "metadata": {
    "scrolled": true
   },
   "outputs": [
    {
     "name": "stdout",
     "output_type": "stream",
     "text": [
      "0\n",
      "tf.Tensor(0.00033143235, shape=(), dtype=float32)\n"
     ]
    }
   ],
   "source": [
    "t_total = np_dda.calculate_spectrum_trajectories_v2()\n",
    "t_total = np.array(t_total)\n",
    "np.savetxt('./data_Au@Ag_Octahedra/data_octahedra_delete_t.csv',t_total,delimiter=',')\n",
    "t_total = np.array(t_total)\n",
    "np.savetxt(config['folder_path'] +\"/data.csv\",np.array(np_dda.C_cross_total),delimiter=\",\")"
   ]
  },
  {
   "cell_type": "code",
   "execution_count": 31,
   "metadata": {
    "scrolled": true
   },
   "outputs": [
    {
     "data": {
      "text/plain": [
       "[<matplotlib.lines.Line2D at 0x7f3c48304910>]"
      ]
     },
     "execution_count": 31,
     "metadata": {},
     "output_type": "execute_result"
    },
    {
     "data": {
      "image/png": "[encoded data removed]",
      "text/plain": [
       "<Figure size 432x288 with 1 Axes>"
      ]
     },
     "metadata": {
      "needs_background": "light"
     },
     "output_type": "display_data"
    }
   ],
   "source": [
    "plt.plot(t_total.mean(axis=0))"
   ]
  },
  {
   "cell_type": "code",
   "execution_count": null,
   "metadata": {},
   "outputs": [],
   "source": [
    "t_total = np.loadtxt('./data_Au@Ag_Octahedra/data_octahedra_delete_t.csv',delimiter=',')\n",
    "print(np.diff(t_total.mean(axis=0)).mean())\n",
    "print(t_total.mean(axis=0))\n",
    "print(t_total.mean())"
   ]
  },
  {
   "cell_type": "code",
   "execution_count": 30,
   "metadata": {},
   "outputs": [
    {
     "data": {
      "image/png": "[encoded data removed]",
      "text/plain": [
       "<Figure size 432x288 with 1 Axes>"
      ]
     },
     "metadata": {
      "needs_background": "light"
     },
     "output_type": "display_data"
    }
   ],
   "source": [
    "data = np.loadtxt( str(current_folder_path) + '/data_Au@Ag_Octahedra/' +\"/data.csv\",delimiter=\",\")\n",
    "for i in range(data.shape[1]):\n",
    "    plt.plot(data[:,i])"
   ]
  },
  {
   "cell_type": "markdown",
   "metadata": {},
   "source": [
    "# Use the analytical addition solution"
   ]
  },
  {
   "cell_type": "code",
   "execution_count": 32,
   "metadata": {},
   "outputs": [],
   "source": [
    "#read in original shape\n",
    "with tf.device('/GPU:0'):\n",
    "    position0=np.loadtxt('./data_Au@Ag_Octahedra/octahedra_core.csv',delimiter=',')\n",
    "\n",
    "with tf.device('/GPU:0'):\n",
    "    position1=np.loadtxt('./data_Au@Ag_Octahedra/octahedra_overall.csv',delimiter=',')\n",
    "\n",
    "delete_sequence = np.loadtxt('./data_Au@Ag_Octahedra/random_delete_sequence_%d.csv'%random_seed,delimiter=',')\n",
    "position_old = position0\n",
    "position_new = np.vstack((position0,position1[extra_index[::-1]]))\n",
    "np.savetxt(\"All_dipoles.csv\",position_new,delimiter=',')\n",
    "\n",
    "# Generate the Au@Ag core shell structure\n",
    "components = np.array([1.0,0.0]).reshape(-1,1).repeat(len(position),axis=1)\n",
    "for i in range(len(position_old),len(position_new)):\n",
    "    components[:,i] = np.array([0,1]).T\n",
    "np.savetxt(str(current_folder_path)+'/core_shell_components2.csv',components,delimiter=',')"
   ]
  },
  {
   "cell_type": "code",
   "execution_count": 33,
   "metadata": {},
   "outputs": [],
   "source": [
    "# define the intial and final dipole sets\n",
    "config_1 = {'gpu_device': '/GPU:0',\n",
    "            'dipole_length': 1.0,\n",
    "            'min_wavelength': 0.4,\n",
    "            'max_wavelength': 0.9,\n",
    "            'num_wavelengths': 51,\n",
    "            'ref_medium': 1.333,\n",
    "            'rotation_steps': 10,\n",
    "            'folder_path': None,\n",
    "            'calculate_electricField': False,\n",
    "            'ref_data': [str(current_folder_path) + '/Au_ref_index.csv',str(current_folder_path) + '/Ag_ref_index.csv'],\n",
    "            'metals': [\"Au\",\"Ag\"],\n",
    "            'dipole_data': str(current_folder_path) + '/data_Au@Ag_Octahedra/octahedra_core.csv',\n",
    "            \"ratio\":[1.0, 0],\n",
    "            \"lattice_constant\":0.41,\n",
    "            \"method\":\"homo\",\n",
    "            \"atom_data\":None\n",
    "           }\n",
    "\n",
    "config_2 = {'gpu_device': '/GPU:0',\n",
    "            'dipole_length': 1.0,\n",
    "            'min_wavelength': 0.4,\n",
    "            'max_wavelength': 0.9,\n",
    "            'num_wavelengths': 51,\n",
    "            'ref_medium': 1.333,\n",
    "            'rotation_steps': 10,\n",
    "            'folder_path': None,\n",
    "            'calculate_electricField': False,\n",
    "            'ref_data': [str(current_folder_path) + '/Au_ref_index.csv',str(current_folder_path) + '/Ag_ref_index.csv'],\n",
    "            'metals': [\"Au\",\"Ag\"],\n",
    "            'dipole_data': str(current_folder_path) + '/All_dipoles.csv',\n",
    "            \"lattice_constant\":0.41,\n",
    "            \"method\":\"heter_custom\",\n",
    "            \"custom_ratio_path\":str(current_folder_path)+'/core_shell_components2.csv',\n",
    "            \"atom_data\":None}"
   ]
  },
  {
   "cell_type": "code",
   "execution_count": 34,
   "metadata": {},
   "outputs": [
    {
     "name": "stdout",
     "output_type": "stream",
     "text": [
      "Reading refractive index and dipole data\n",
      "Calculating radius of the cross section and polarizability\n",
      "Reading refractive index and dipole data\n",
      "Calculating radius of the cross section and polarizability\n"
     ]
    }
   ],
   "source": [
    "data_path = str(current_folder_path) + '/data_strict_solution/'\n",
    "config_1['folder_path'] = data_path  # path to store the resutls\n",
    "with open(config_1['folder_path']+'/config_1.json','w') as outfile:\n",
    "    json.dump(config_1,outfile)\n",
    "np_dda1 = DDA(config_1)\n",
    "np_dda1.dipole_list = np_dda1.dipole_list\n",
    "\n",
    "config_2['folder_path'] = data_path # path to store the resutls\n",
    "with open(config_2['folder_path']+'/config_2.json','w') as outfile:\n",
    "    json.dump(config_2,outfile)\n",
    "np_dda2 = DDA(config_2)\n",
    "np_dda2.dipole_list = np_dda2.dipole_list\n",
    "\n",
    "# check wavelength and wavenumber\n",
    "if not (np_dda1.wl_exp == np_dda2.wl_exp).all():\n",
    "    print(\"Error: the wavelengths are not consistent\")\n",
    "    \n",
    "if not (np_dda1.k == np_dda1.k).all():\n",
    "    print(\"Error: the wavenumbers are not consistent\")\n",
    "k = np_dda1.k"
   ]
  },
  {
   "cell_type": "code",
   "execution_count": null,
   "metadata": {
    "scrolled": true
   },
   "outputs": [],
   "source": [
    "for index_wave in range(len(k)):\n",
    "    np_dda1.calculate_spectrum_trajectories(np_dda1,np_dda2,index_wave,k)"
   ]
  },
  {
   "cell_type": "code",
   "execution_count": 35,
   "metadata": {},
   "outputs": [
    {
     "data": {
      "image/png": "[encoded data removed]",
      "text/plain": [
       "<Figure size 432x288 with 1 Axes>"
      ]
     },
     "metadata": {
      "needs_background": "light"
     },
     "output_type": "display_data"
    }
   ],
   "source": [
    "data_path = str(current_folder_path) + '/data_strict_solution/'\n",
    "C_total = []\n",
    "t_total = []\n",
    "for index_wave in range(len(k)):\n",
    "    C_total.append(np.load(data_path+f\"/C_cross-{index_wave}.npy\"))\n",
    "    t_total.append(np.loadtxt(data_path+f\"/time_cost-{index_wave}.csv\",delimiter=','))\n",
    "C_total = np.array(C_total)\n",
    "t_total = np.array(t_total)\n",
    "np.savetxt(data_path+'/C_total_combined.csv',np.array(C_total),delimiter=',')\n",
    "np.savetxt(data_path+'/t_total_combined.csv',np.array(t_total),delimiter=',')\n",
    "for i in range(C_total.shape[1]):\n",
    "    plt.plot(C_total[:,i])"
   ]
  },
  {
   "cell_type": "markdown",
   "metadata": {},
   "source": [
    "# Benchmark the overall structure"
   ]
  },
  {
   "cell_type": "code",
   "execution_count": null,
   "metadata": {},
   "outputs": [],
   "source": [
    "# define the intial and final dipole sets\n",
    "config = {'gpu_device': '/GPU:0',\n",
    "            'dipole_length': 1.0,\n",
    "            'min_wavelength': 0.4,\n",
    "            'max_wavelength': 0.9,\n",
    "            'num_wavelengths': 51,\n",
    "            'ref_medium': 1.333,\n",
    "            'rotation_steps': 10,\n",
    "            'folder_path': None,\n",
    "            'calculate_electricField': False,\n",
    "            'ref_data': [str(current_folder_path) + '/Au_ref_index.csv',str(current_folder_path) + '/Ag_ref_index.csv'],\n",
    "            'metals': [\"Au\",\"Ag\"],\n",
    "            'dipole_data': str(current_folder_path) + '/All_dipoles.csv',\n",
    "            \"lattice_constant\":0.41,\n",
    "            \"method\":\"heter_custom\",\n",
    "            \"custom_ratio_path\":str(current_folder_path)+'/core_shell_components2.csv',\n",
    "            \"atom_data\":None}"
   ]
  },
  {
   "cell_type": "code",
   "execution_count": null,
   "metadata": {},
   "outputs": [],
   "source": [
    "config['folder_path'] = str(current_folder_path) + '/data_start_end/'\n",
    "with open(config['folder_path']+'/config.json','w') as outfile:\n",
    "    json.dump(config,outfile)\n",
    "np_dda = DDA(config)\n",
    "np.savetxt(config['folder_path'] +\"/data_overall.csv\",np.array(np_dda.C_cross_total),delimiter=\",\")"
   ]
  },
  {
   "cell_type": "code",
   "execution_count": null,
   "metadata": {
    "scrolled": true
   },
   "outputs": [],
   "source": [
    "t_start = time.time()\n",
    "np_dda.run_DDA()\n",
    "t_end = time.time()\n",
    "print((t_start - t_end)/51)\n",
    "np.savetxt(config['folder_path'] +\"/t_overall.csv\",np.array([(t_end - t_start)]),delimiter=\",\")"
   ]
  },
  {
   "cell_type": "code",
   "execution_count": 27,
   "metadata": {},
   "outputs": [
    {
     "data": {
      "text/plain": [
       "5.747391242606967"
      ]
     },
     "execution_count": 27,
     "metadata": {},
     "output_type": "execute_result"
    }
   ],
   "source": [
    "np.loadtxt(config['folder_path'] +\"/t_overall.csv\",delimiter=\",\")/51"
   ]
  },
  {
   "cell_type": "markdown",
   "metadata": {},
   "source": [
    "# Benchmark the direct calculation of the core"
   ]
  },
  {
   "cell_type": "code",
   "execution_count": null,
   "metadata": {},
   "outputs": [],
   "source": [
    "# define the intial and final dipole sets\n",
    "config = {'gpu_device': '/GPU:0',\n",
    "            'dipole_length': 1.0,\n",
    "            'min_wavelength': 0.4,\n",
    "            'max_wavelength': 0.9,\n",
    "            'num_wavelengths': 51,\n",
    "            'ref_medium': 1.333,\n",
    "            'rotation_steps': 10,\n",
    "            'folder_path': None,\n",
    "            'calculate_electricField': False,\n",
    "            'ref_data': [str(current_folder_path) + '/Au_ref_index.csv',str(current_folder_path) + '/Ag_ref_index.csv'],\n",
    "            'metals': [\"Au\",\"Ag\"],\n",
    "            'dipole_data': str(current_folder_path) + '/data_Au@Ag_Octahedra/octahedra_core.csv',\n",
    "            \"ratio\":[1.0, 0],\n",
    "            \"lattice_constant\":0.41,\n",
    "            \"method\":\"homo\",\n",
    "            \"atom_data\":None\n",
    "           }"
   ]
  },
  {
   "cell_type": "code",
   "execution_count": null,
   "metadata": {},
   "outputs": [],
   "source": [
    "config['folder_path'] = str(current_folder_path) + '/data_start_end/'\n",
    "with open(config['folder_path']+'/config.json','w') as outfile:\n",
    "    json.dump(config,outfile)\n",
    "np_dda = DDA(config)\n",
    "np.savetxt(config['folder_path'] +\"/data_core.csv\",np.array(np_dda.C_cross_total),delimiter=\",\")"
   ]
  },
  {
   "cell_type": "code",
   "execution_count": null,
   "metadata": {
    "scrolled": true
   },
   "outputs": [],
   "source": [
    "t_start = time.time()\n",
    "np_dda.run_DDA()\n",
    "t_end = time.time()\n",
    "print((t_end - t_start)/51)\n",
    "np.savetxt(config['folder_path'] +\"/t_core.csv\",np.array([(t_end - t_start)]),delimiter=\",\")"
   ]
  },
  {
   "cell_type": "code",
   "execution_count": 28,
   "metadata": {},
   "outputs": [
    {
     "data": {
      "text/plain": [
       "3.871688015320722"
      ]
     },
     "execution_count": 28,
     "metadata": {},
     "output_type": "execute_result"
    }
   ],
   "source": [
    "np.loadtxt(config['folder_path'] +\"/t_core.csv\",delimiter=\",\")/51"
   ]
  },
  {
   "cell_type": "code",
   "execution_count": null,
   "metadata": {},
   "outputs": [],
   "source": []
  }
 ],
 "metadata": {
  "kernelspec": {
   "display_name": "Python 3",
   "language": "python",
   "name": "python3"
  },
  "language_info": {
   "codemirror_mode": {
    "name": "ipython",
    "version": 3
   },
   "file_extension": ".py",
   "mimetype": "text/x-python",
   "name": "python",
   "nbconvert_exporter": "python",
   "pygments_lexer": "ipython3",
   "version": "3.7.7"
  }
 },
 "nbformat": 4,
 "nbformat_minor": 4
}
