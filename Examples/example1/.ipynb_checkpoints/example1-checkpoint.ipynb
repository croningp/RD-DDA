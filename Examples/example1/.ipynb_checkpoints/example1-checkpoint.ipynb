{
 "cells": [
  {
   "cell_type": "code",
   "execution_count": null,
   "metadata": {},
   "outputs": [
    {
     "name": "stdout",
     "output_type": "stream",
     "text": [
      "Reading refractive index and dipole data\n",
      "Calculating radius of the cross section and polarizability\n",
      "0\n",
      "tf.Tensor(0.00024133551, shape=(), dtype=float32)\n",
      "1\n",
      "tf.Tensor(0.00023655123, shape=(), dtype=float32)\n",
      "2\n",
      "tf.Tensor(0.00023101197, shape=(), dtype=float32)\n",
      "3\n",
      "tf.Tensor(0.000225846, shape=(), dtype=float32)\n",
      "4\n",
      "tf.Tensor(0.00022364763, shape=(), dtype=float32)\n",
      "5\n"
     ]
    }
   ],
   "source": [
    "import os\n",
    "import json\n",
    "import pathlib\n",
    "import numpy as np\n",
    "from pydscat.dda import DDA\n",
    "\n",
    "# GPU Device Config\n",
    "os.environ[\"CUDA_DEVICE_ORDER\"]=\"PCI_BUS_ID\"   \n",
    "os.environ[\"CUDA_VISIBLE_DEVICES\"]=\"3\"\n",
    "\n",
    "current_folder_path = pathlib.Path().absolute()\n",
    "\n",
    "config = {'gpu_device': '/GPU:0',\n",
    "          'dipole_length': 1,\n",
    "          'min_wavelength': 0.4,\n",
    "          'max_wavelength': 0.8,\n",
    "          'num_wavelengths': 41,\n",
    "          'ref_medium': 1.333,\n",
    "          'rotation_steps': 10,\n",
    "          'folder_path': None,\n",
    "          'calculate_electricField': False,\n",
    "          'lattice_constant': 0.41,\n",
    "          'ref_data': [str(current_folder_path) + '/Au_ref_index.csv',str(current_folder_path) + '/Ag_ref_index.csv'],\n",
    "          'metals': [\"Au\",\"Ag\"],\n",
    "          'dipole_data': str(current_folder_path)+ '/dipole_list.csv',\n",
    "          \"ratio\":[1.0, 0.0],\n",
    "          \"method\":\"homo\",\n",
    "          \"custom_ratio_path\":None,\n",
    "          'atom_data':None,\n",
    "          'lattice_constant': None\n",
    "        }\n",
    "config['folder_path'] = str(current_folder_path)\n",
    "np_dda = DDA(config)\n",
    "np_dda.run_DDA()\n",
    "np_dda.plot_spectra()\n",
    "# Save the cross section data\n",
    "np.savetxt(config['folder_path'] +\"/data.csv\",np.array(np_dda.C_cross_total),delimiter=\",\")"
   ]
  },
  {
   "cell_type": "code",
   "execution_count": null,
   "metadata": {},
   "outputs": [],
   "source": []
  }
 ],
 "metadata": {
  "kernelspec": {
   "display_name": "Python 3",
   "language": "python",
   "name": "python3"
  },
  "language_info": {
   "codemirror_mode": {
    "name": "ipython",
    "version": 3
   },
   "file_extension": ".py",
   "mimetype": "text/x-python",
   "name": "python",
   "nbconvert_exporter": "python",
   "pygments_lexer": "ipython3",
   "version": "3.7.7"
  }
 },
 "nbformat": 4,
 "nbformat_minor": 4
}
